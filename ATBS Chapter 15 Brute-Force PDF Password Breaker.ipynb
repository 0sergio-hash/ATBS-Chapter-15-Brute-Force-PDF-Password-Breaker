{
 "cells": [
  {
   "cell_type": "markdown",
   "metadata": {},
   "source": [
    "# [Instructions for this project](https://automatetheboringstuff.com/2e/chapter15/)"
   ]
  },
  {
   "cell_type": "code",
   "execution_count": 1,
   "metadata": {},
   "outputs": [],
   "source": [
    "# Practice Project: Brute-Force PDF Password Breaker\n",
    "\n",
    "def brutForce(pdfFile, passWordFile = 'dictionary.txt'):\n",
    "    \n",
    "    # Import libraries\n",
    "    import PyPDF2\n",
    "    \n",
    "    # Create password list variable\n",
    "    passWordList = []\n",
    "    \n",
    "    # Import dictionary text file\n",
    "    listDoc = open(passWordFile)\n",
    "        \n",
    "    # Loop over lines using readlines() \n",
    "    listDocLines = listDoc.readlines()\n",
    "    \n",
    "    for line in listDocLines: #for each line:\n",
    "        line = line.strip('\\n')\n",
    "        \n",
    "        # Append lowercase word to list\n",
    "        passWordList.append(line.lower())\n",
    "        # Append uppercase word to list\n",
    "        passWordList.append(line.upper())\n",
    "    \n",
    "    passwordGuessed = False\n",
    "    \n",
    "    # Create a reader object\n",
    "    encryptedPdfReader = PyPDF2.PdfFileReader(open(pdfFile, 'rb'))\n",
    "    \n",
    "    # Iterate over password list\n",
    "    for passWord in passWordList:   \n",
    "        \n",
    "        # If password is correct\n",
    "        if encryptedPdfReader.decrypt(passWord) is 1:\n",
    "            \n",
    "            passwordGuessed = True\n",
    "        \n",
    "            # Print correct password\n",
    "            print(f'Correct password is: {passWord}')\n",
    "            \n",
    "            # Break out of the loop\n",
    "            break\n",
    "\n",
    "    # Print a complete message stating whether or not you were able to crack the password.\n",
    "    if passwordGuessed is True: \n",
    "        print('Password found.')\n",
    "    else:\n",
    "        print('Correct password not found.')"
   ]
  }
 ],
 "metadata": {
  "kernelspec": {
   "display_name": "ibm_project",
   "language": "python",
   "name": "ibm_project"
  },
  "language_info": {
   "codemirror_mode": {
    "name": "ipython",
    "version": 3
   },
   "file_extension": ".py",
   "mimetype": "text/x-python",
   "name": "python",
   "nbconvert_exporter": "python",
   "pygments_lexer": "ipython3",
   "version": "3.7.9"
  }
 },
 "nbformat": 4,
 "nbformat_minor": 4
}
